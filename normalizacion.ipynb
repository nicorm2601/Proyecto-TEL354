{
 "cells": [
  {
   "cell_type": "code",
   "execution_count": 18,
   "metadata": {},
   "outputs": [
    {
     "name": "stderr",
     "output_type": "stream",
     "text": [
      "[nltk_data] Downloading package punkt to\n",
      "[nltk_data]     C:\\Users\\Nicolas\\AppData\\Roaming\\nltk_data...\n",
      "[nltk_data]   Package punkt is already up-to-date!\n",
      "[nltk_data] Downloading package stopwords to\n",
      "[nltk_data]     C:\\Users\\Nicolas\\AppData\\Roaming\\nltk_data...\n",
      "[nltk_data]   Package stopwords is already up-to-date!\n"
     ]
    },
    {
     "data": {
      "text/plain": [
       "True"
      ]
     },
     "execution_count": 18,
     "metadata": {},
     "output_type": "execute_result"
    }
   ],
   "source": [
    "import pandas as pd\n",
    "import re\n",
    "import string\n",
    "import emoji\n",
    "from nltk.corpus import stopwords\n",
    "import nltk\n",
    "\n",
    "nltk.download('punkt')\n",
    "nltk.download('stopwords')"
   ]
  },
  {
   "cell_type": "code",
   "execution_count": 19,
   "metadata": {},
   "outputs": [],
   "source": [
    "# Función para eliminar emojis de los tweets.\n",
    "def eliminar_emojis(text):\n",
    "    return emoji.replace_emoji(text, '')"
   ]
  },
  {
   "cell_type": "code",
   "execution_count": 20,
   "metadata": {},
   "outputs": [],
   "source": [
    "# Función para normalizar el tweet.\n",
    "def normalizar_tweet(text):\n",
    "    text = text.lower()\n",
    "    text = re.sub(r'http\\S+|www\\S+|https\\S+', '', text, flags=re.MULTILINE)\n",
    "    text = eliminar_emojis(text)\n",
    "    text = text.translate(str.maketrans('', '', string.punctuation))\n",
    "    stop_words = set(stopwords.words('spanish'))\n",
    "    text = ' '.join([word for word in text.split() if word not in stop_words])\n",
    "    \n",
    "    return text"
   ]
  },
  {
   "cell_type": "code",
   "execution_count": 21,
   "metadata": {},
   "outputs": [],
   "source": [
    "# Función para cargar el archivo csv y agregar el usuario que posteo el tweet.\n",
    "def cargarArchivo(ruta_in_dataset, user, ruta_out_dataset):\n",
    "    df = pd.read_csv(ruta_in_dataset)\n",
    "    df = df[df['language'] == 'es']\n",
    "    df['normalized_text'] = df['text'].apply(normalizar_tweet)\n",
    "    df_filtered = df[['created_at', 'normalized_text']]\n",
    "    df_filtered.columns = ['fecha', 'tweet_normalizado']\n",
    "    df_filtered['user'] = user\n",
    "    df_filtered.to_csv(ruta_out_dataset, index=False)\n",
    "\n",
    "    return ruta_out_dataset\n"
   ]
  },
  {
   "cell_type": "code",
   "execution_count": 25,
   "metadata": {},
   "outputs": [
    {
     "name": "stderr",
     "output_type": "stream",
     "text": [
      "C:\\Users\\Nicolas\\AppData\\Local\\Temp\\ipykernel_18640\\2623130465.py:8: SettingWithCopyWarning: \n",
      "A value is trying to be set on a copy of a slice from a DataFrame.\n",
      "Try using .loc[row_indexer,col_indexer] = value instead\n",
      "\n",
      "See the caveats in the documentation: https://pandas.pydata.org/pandas-docs/stable/user_guide/indexing.html#returning-a-view-versus-a-copy\n",
      "  df_filtered['user'] = user\n"
     ]
    }
   ],
   "source": [
    "archivoSalida = cargarArchivo('./Datasets/camila_vallejo.csv', '@camila_vallejo', 'camila_vallejo_norm.csv')"
   ]
  },
  {
   "cell_type": "code",
   "execution_count": 26,
   "metadata": {},
   "outputs": [],
   "source": [
    "# Función para reordenar el archivo csv de salida.\n",
    "def ordenar_csv(archivo_csv, arhivo_csv_ordenado):\n",
    "    df = pd.read_csv(archivo_csv)\n",
    "    df.rename(columns={'fecha': 'date', 'tweet_normalizado': 'text', 'user': 'user'}, inplace=True)\n",
    "    df = df[['user', 'text', 'date']]\n",
    "    df.to_csv(arhivo_csv_ordenado, index=False)\n",
    "\n",
    "    return arhivo_csv_ordenado"
   ]
  },
  {
   "cell_type": "code",
   "execution_count": 27,
   "metadata": {},
   "outputs": [
    {
     "data": {
      "text/plain": [
       "'camila_vallejo_org.csv'"
      ]
     },
     "execution_count": 27,
     "metadata": {},
     "output_type": "execute_result"
    }
   ],
   "source": [
    "ordenar_csv('camila_vallejo_norm.csv', 'camila_vallejo_org.csv')"
   ]
  }
 ],
 "metadata": {
  "kernelspec": {
   "display_name": "base",
   "language": "python",
   "name": "python3"
  },
  "language_info": {
   "codemirror_mode": {
    "name": "ipython",
    "version": 3
   },
   "file_extension": ".py",
   "mimetype": "text/x-python",
   "name": "python",
   "nbconvert_exporter": "python",
   "pygments_lexer": "ipython3",
   "version": "3.11.7"
  }
 },
 "nbformat": 4,
 "nbformat_minor": 2
}
