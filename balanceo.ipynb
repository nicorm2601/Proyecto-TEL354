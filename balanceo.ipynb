{
 "cells": [
  {
   "cell_type": "code",
   "execution_count": 26,
   "metadata": {},
   "outputs": [],
   "source": [
    "import pandas as pd\n",
    "from sklearn.utils import resample"
   ]
  },
  {
   "cell_type": "code",
   "execution_count": 27,
   "metadata": {},
   "outputs": [],
   "source": [
    "# Función para balancear las emociones y los sentimientos en el dataset mediante oversampling.\n",
    "def balancear(ruta_in_dataset, ruta_out_dataset):\n",
    "    df = pd.read_csv(ruta_in_dataset)\n",
    "\n",
    "    groups_emotion = df.groupby('emotion')\n",
    "    max_size_emotion = groups_emotion.size().max()\n",
    "    df_balanced_emotion = groups_emotion.apply(lambda x: x.sample(max_size_emotion, replace=True)).reset_index(drop=True)\n",
    "\n",
    "    groups_sentiment = df_balanced_emotion.groupby('sentiment')\n",
    "    max_size_sentiment = groups_sentiment.size().max()\n",
    "    df_balanced = groups_sentiment.apply(lambda x: x.sample(max_size_sentiment, replace=True)).reset_index(drop=True)\n",
    "\n",
    "    df_balanced.to_csv(ruta_out_dataset, index=False)\n",
    "\n",
    "    return ruta_out_dataset"
   ]
  },
  {
   "cell_type": "code",
   "execution_count": 28,
   "metadata": {},
   "outputs": [],
   "source": [
    "archivoSalida = balancear('analisis_sentimientos.csv', 'analisis_sentimientos_balanceados.csv')"
   ]
  }
 ],
 "metadata": {
  "kernelspec": {
   "display_name": "base",
   "language": "python",
   "name": "python3"
  },
  "language_info": {
   "codemirror_mode": {
    "name": "ipython",
    "version": 3
   },
   "file_extension": ".py",
   "mimetype": "text/x-python",
   "name": "python",
   "nbconvert_exporter": "python",
   "pygments_lexer": "ipython3",
   "version": "3.11.7"
  }
 },
 "nbformat": 4,
 "nbformat_minor": 2
}
