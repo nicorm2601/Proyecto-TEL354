{
 "cells": [
  {
   "cell_type": "code",
   "execution_count": 13,
   "metadata": {},
   "outputs": [],
   "source": [
    "import pandas as pd\n",
    "from ntscraper import Nitter"
   ]
  },
  {
   "cell_type": "code",
   "execution_count": 77,
   "metadata": {},
   "outputs": [
    {
     "name": "stderr",
     "output_type": "stream",
     "text": [
      "Testing instances:  92%|█████████▏| 71/77 [02:59<00:11,  1.87s/it]"
     ]
    },
    {
     "name": "stdout",
     "output_type": "stream",
     "text": [
      "11-May-24 19:15:06 - Certificate did not match expected hostname: nt.ggtyler.dev. Certificate: {'subject': ((('commonName', '4g.ggtyler.dev'),),), 'issuer': ((('countryName', 'US'),), (('organizationName', \"Let's Encrypt\"),), (('commonName', 'R3'),)), 'version': 3, 'serialNumber': '048FA3D68DCD65927A6C57C2A3C9C1F8CA14', 'notBefore': 'Mar 15 00:26:35 2024 GMT', 'notAfter': 'Jun 13 00:26:34 2024 GMT', 'subjectAltName': (('DNS', '4g.ggtyler.dev'),), 'OCSP': ('http://r3.o.lencr.org',), 'caIssuers': ('http://r3.i.lencr.org/',)}\n"
     ]
    },
    {
     "name": "stderr",
     "output_type": "stream",
     "text": [
      "Testing instances:  95%|█████████▍| 73/77 [03:01<00:05,  1.26s/it]"
     ]
    },
    {
     "name": "stdout",
     "output_type": "stream",
     "text": [
      "11-May-24 19:15:08 - Certificate did not match expected hostname: nitter.uni-sonia.com. Certificate: {'subject': ((('commonName', '*.xserver.jp'),),), 'issuer': ((('countryName', 'JP'),), (('organizationName', 'CloudSecure Corporation'),), (('commonName', 'CloudSecure RSA Domain Validation Secure Server CA 2'),)), 'version': 3, 'serialNumber': 'ACA67AD2030638EE2DCE8E845B8299A6', 'notBefore': 'Mar 11 00:00:00 2024 GMT', 'notAfter': 'Apr 11 23:59:59 2025 GMT', 'subjectAltName': (('DNS', '*.xserver.jp'), ('DNS', 'xserver.jp')), 'OCSP': ('http://ocsp.sectigo.com',), 'caIssuers': ('http://crt.sectigo.com/CloudSecureRSADomainValidationSecureServerCA2.crt',)}\n"
     ]
    },
    {
     "name": "stderr",
     "output_type": "stream",
     "text": [
      "Testing instances:  99%|█████████▊| 76/77 [03:09<00:02,  2.36s/it]"
     ]
    },
    {
     "name": "stdout",
     "output_type": "stream",
     "text": [
      "11-May-24 19:15:17 - Certificate did not match expected hostname: nitter.tinfoil-hat.net. Certificate: {'subject': ((('commonName', 'jelly.tinfoil-hat.de'),),), 'issuer': ((('countryName', 'US'),), (('organizationName', \"Let's Encrypt\"),), (('commonName', 'R3'),)), 'version': 3, 'serialNumber': '03F338CE809E122DC2875C50A27A840DD7A4', 'notBefore': 'Mar 15 22:40:16 2024 GMT', 'notAfter': 'Jun 13 22:40:15 2024 GMT', 'subjectAltName': (('DNS', 'jelly.tinfoil-hat.de'),), 'OCSP': ('http://r3.o.lencr.org',), 'caIssuers': ('http://r3.i.lencr.org/',)}\n"
     ]
    },
    {
     "name": "stderr",
     "output_type": "stream",
     "text": [
      "Testing instances: 100%|██████████| 77/77 [03:11<00:00,  2.49s/it]\n"
     ]
    }
   ],
   "source": [
    "scraper = Nitter()"
   ]
  },
  {
   "cell_type": "code",
   "execution_count": 15,
   "metadata": {},
   "outputs": [],
   "source": [
    "def get_tweets(name, modes, no):\n",
    "    tweets = scraper.get_tweets(name, mode = modes, number = no)\n",
    "    final_tweets = []\n",
    "    for tweet in tweets['tweets']:\n",
    "        data = [tweet['user']['username'], tweet['text'], tweet['date']]\n",
    "        final_tweets.append(data)\n",
    "\n",
    "    columnas = ['user', 'text', 'date']\n",
    "    data = pd.DataFrame(final_tweets, columns=columnas)\n",
    "    return data\n",
    "\n"
   ]
  },
  {
   "cell_type": "code",
   "execution_count": 27,
   "metadata": {},
   "outputs": [
    {
     "name": "stdout",
     "output_type": "stream",
     "text": [
      "11-May-24 18:08:52 - No instance specified, using random instance https://nitter.privacydev.net\n",
      "11-May-24 18:08:58 - Current stats for joseantoniokast: 20 tweets, 0 threads...\n",
      "11-May-24 18:09:02 - Current stats for joseantoniokast: 40 tweets, 0 threads...\n",
      "11-May-24 18:09:05 - Current stats for joseantoniokast: 58 tweets, 0 threads...\n",
      "11-May-24 18:09:09 - Current stats for joseantoniokast: 78 tweets, 0 threads...\n",
      "11-May-24 18:09:11 - Empty page on https://nitter.privacydev.net\n"
     ]
    }
   ],
   "source": [
    "data = get_tweets('joseantoniokast', 'user', 100)"
   ]
  },
  {
   "cell_type": "code",
   "execution_count": 28,
   "metadata": {},
   "outputs": [
    {
     "name": "stdout",
     "output_type": "stream",
     "text": [
      "11-May-24 18:09:35 - No instance specified, using random instance https://nitter.esmailelbob.xyz\n",
      "11-May-24 18:09:42 - Current stats for GabrielBoric: 20 tweets, 0 threads...\n",
      "11-May-24 18:09:47 - Current stats for GabrielBoric: 40 tweets, 0 threads...\n",
      "11-May-24 18:09:52 - Current stats for GabrielBoric: 60 tweets, 0 threads...\n",
      "11-May-24 18:09:57 - Current stats for GabrielBoric: 80 tweets, 0 threads...\n",
      "11-May-24 18:10:02 - Current stats for GabrielBoric: 98 tweets, 0 threads...\n",
      "11-May-24 18:10:07 - Current stats for GabrielBoric: 100 tweets, 0 threads...\n"
     ]
    }
   ],
   "source": [
    "data = get_tweets('GabrielBoric', 'user', 100)"
   ]
  },
  {
   "cell_type": "code",
   "execution_count": 23,
   "metadata": {},
   "outputs": [
    {
     "name": "stdout",
     "output_type": "stream",
     "text": [
      "11-May-24 18:01:26 - No instance specified, using random instance https://nitter.esmailelbob.xyz\n",
      "11-May-24 18:01:33 - Current stats for rodrigosepu: 21 tweets, 0 threads...\n",
      "11-May-24 18:01:38 - Current stats for rodrigosepu: 41 tweets, 0 threads...\n",
      "11-May-24 18:01:42 - Current stats for rodrigosepu: 61 tweets, 0 threads...\n",
      "11-May-24 18:01:46 - Current stats for rodrigosepu: 81 tweets, 0 threads...\n",
      "11-May-24 18:01:50 - Current stats for rodrigosepu: 100 tweets, 0 threads...\n"
     ]
    }
   ],
   "source": [
    "data = get_tweets('rodrigosepu', 'user', 100)"
   ]
  },
  {
   "cell_type": "code",
   "execution_count": 38,
   "metadata": {},
   "outputs": [
    {
     "name": "stdout",
     "output_type": "stream",
     "text": [
      "11-May-24 18:15:20 - No instance specified, using random instance https://nitter.esmailelbob.xyz\n",
      "11-May-24 18:15:27 - Current stats for Putre: 5 tweets, 0 threads...\n",
      "11-May-24 18:15:31 - Current stats for Putre: 9 tweets, 0 threads...\n",
      "11-May-24 18:15:36 - Current stats for Putre: 15 tweets, 0 threads...\n",
      "11-May-24 18:15:40 - Current stats for Putre: 16 tweets, 0 threads...\n",
      "11-May-24 18:15:45 - Current stats for Putre: 16 tweets, 0 threads...\n",
      "11-May-24 18:15:50 - Current stats for Putre: 18 tweets, 0 threads...\n",
      "11-May-24 18:15:54 - Current stats for Putre: 18 tweets, 0 threads...\n",
      "11-May-24 18:15:57 - Fetching error: Instance has been rate limited.Use another instance or try again later.\n"
     ]
    }
   ],
   "source": [
    "data = get_tweets('Putre', 'hashtag', 50)"
   ]
  },
  {
   "cell_type": "code",
   "execution_count": 41,
   "metadata": {},
   "outputs": [
    {
     "name": "stdout",
     "output_type": "stream",
     "text": [
      "11-May-24 18:18:30 - No instance specified, using random instance https://nitter.esmailelbob.xyz\n",
      "11-May-24 18:18:37 - Current stats for chile: 14 tweets, 0 threads...\n",
      "11-May-24 18:18:41 - Current stats for chile: 22 tweets, 0 threads...\n",
      "11-May-24 18:18:45 - Current stats for chile: 29 tweets, 0 threads...\n",
      "11-May-24 18:18:50 - Current stats for chile: 36 tweets, 0 threads...\n",
      "11-May-24 18:18:54 - Current stats for chile: 44 tweets, 0 threads...\n",
      "11-May-24 18:18:59 - Current stats for chile: 50 tweets, 0 threads...\n"
     ]
    }
   ],
   "source": [
    "data = get_tweets('chile', 'hashtag', 50)"
   ]
  },
  {
   "cell_type": "code",
   "execution_count": 45,
   "metadata": {},
   "outputs": [
    {
     "name": "stdout",
     "output_type": "stream",
     "text": [
      "11-May-24 18:20:47 - No instance specified, using random instance https://nitter.esmailelbob.xyz\n",
      "11-May-24 18:20:53 - Current stats for Maipú: 12 tweets, 0 threads...\n",
      "11-May-24 18:20:58 - Current stats for Maipú: 21 tweets, 0 threads...\n",
      "11-May-24 18:20:59 - Fetching error: Instance has been rate limited.Use another instance or try again later.\n"
     ]
    }
   ],
   "source": [
    "data = get_tweets('Maipú', 'term', 100)"
   ]
  },
  {
   "cell_type": "code",
   "execution_count": 49,
   "metadata": {},
   "outputs": [
    {
     "name": "stdout",
     "output_type": "stream",
     "text": [
      "11-May-24 18:22:40 - No instance specified, using random instance https://nitter.esmailelbob.xyz\n",
      "11-May-24 18:22:47 - Current stats for aweonao: 10 tweets, 0 threads...\n",
      "11-May-24 18:22:51 - Current stats for aweonao: 24 tweets, 0 threads...\n",
      "11-May-24 18:22:55 - Current stats for aweonao: 33 tweets, 0 threads...\n",
      "11-May-24 18:23:00 - Current stats for aweonao: 42 tweets, 0 threads...\n",
      "11-May-24 18:23:02 - Fetching error: Instance has been rate limited.Use another instance or try again later.\n"
     ]
    }
   ],
   "source": [
    "data = get_tweets('aweonao', 'term', 50)"
   ]
  },
  {
   "cell_type": "code",
   "execution_count": 53,
   "metadata": {},
   "outputs": [
    {
     "name": "stdout",
     "output_type": "stream",
     "text": [
      "11-May-24 18:29:42 - No instance specified, using random instance https://nitter.esmailelbob.xyz\n",
      "11-May-24 18:29:49 - Current stats for chile: 16 tweets, 0 threads...\n",
      "11-May-24 18:29:53 - Current stats for chile: 32 tweets, 0 threads...\n",
      "11-May-24 18:29:58 - Current stats for chile: 47 tweets, 0 threads...\n",
      "11-May-24 18:30:02 - Current stats for chile: 50 tweets, 0 threads...\n"
     ]
    }
   ],
   "source": [
    "data = get_tweets('chile', 'term', 50)"
   ]
  },
  {
   "cell_type": "code",
   "execution_count": 64,
   "metadata": {},
   "outputs": [
    {
     "name": "stdout",
     "output_type": "stream",
     "text": [
      "11-May-24 18:36:02 - No instance specified, using random instance https://nitter.esmailelbob.xyz\n",
      "11-May-24 18:36:09 - Current stats for ServicioMilitar: 2 tweets, 0 threads...\n",
      "11-May-24 18:36:13 - Current stats for ServicioMilitar: 7 tweets, 0 threads...\n",
      "11-May-24 18:36:18 - Current stats for ServicioMilitar: 9 tweets, 0 threads...\n",
      "11-May-24 18:36:23 - Current stats for ServicioMilitar: 13 tweets, 0 threads...\n",
      "11-May-24 18:36:25 - Fetching error: Instance has been rate limited.Use another instance or try again later.\n"
     ]
    }
   ],
   "source": [
    "data = get_tweets('ServicioMilitar', 'hashtag', 50)"
   ]
  },
  {
   "cell_type": "code",
   "execution_count": 79,
   "metadata": {},
   "outputs": [
    {
     "name": "stdout",
     "output_type": "stream",
     "text": [
      "11-May-24 19:15:46 - No instance specified, using random instance https://nitter.esmailelbob.xyz\n",
      "11-May-24 19:15:53 - Current stats for EjércitoDeChile: 1 tweets, 0 threads...\n",
      "11-May-24 19:15:55 - Fetching error: Instance has been rate limited.Use another instance or try again later.\n"
     ]
    }
   ],
   "source": [
    "data = get_tweets('EjércitoDeChile ', 'hashtag', 50)"
   ]
  },
  {
   "cell_type": "code",
   "execution_count": 80,
   "metadata": {},
   "outputs": [
    {
     "data": {
      "text/html": [
       "<div>\n",
       "<style scoped>\n",
       "    .dataframe tbody tr th:only-of-type {\n",
       "        vertical-align: middle;\n",
       "    }\n",
       "\n",
       "    .dataframe tbody tr th {\n",
       "        vertical-align: top;\n",
       "    }\n",
       "\n",
       "    .dataframe thead th {\n",
       "        text-align: right;\n",
       "    }\n",
       "</style>\n",
       "<table border=\"1\" class=\"dataframe\">\n",
       "  <thead>\n",
       "    <tr style=\"text-align: right;\">\n",
       "      <th></th>\n",
       "      <th>user</th>\n",
       "      <th>text</th>\n",
       "      <th>date</th>\n",
       "    </tr>\n",
       "  </thead>\n",
       "  <tbody>\n",
       "    <tr>\n",
       "      <th>0</th>\n",
       "      <td>@xuxumeitor</td>\n",
       "      <td>A propósito del #ServicioMilitar y el intento ...</td>\n",
       "      <td>May 11, 2024 · 8:45 PM UTC</td>\n",
       "    </tr>\n",
       "  </tbody>\n",
       "</table>\n",
       "</div>"
      ],
      "text/plain": [
       "          user                                               text  \\\n",
       "0  @xuxumeitor  A propósito del #ServicioMilitar y el intento ...   \n",
       "\n",
       "                         date  \n",
       "0  May 11, 2024 · 8:45 PM UTC  "
      ]
     },
     "execution_count": 80,
     "metadata": {},
     "output_type": "execute_result"
    }
   ],
   "source": [
    "data"
   ]
  },
  {
   "cell_type": "code",
   "execution_count": 81,
   "metadata": {},
   "outputs": [],
   "source": [
    "data.to_csv('tweets.csv', mode = 'a',index=False, header=False)"
   ]
  }
 ],
 "metadata": {
  "kernelspec": {
   "display_name": "base",
   "language": "python",
   "name": "python3"
  },
  "language_info": {
   "codemirror_mode": {
    "name": "ipython",
    "version": 3
   },
   "file_extension": ".py",
   "mimetype": "text/x-python",
   "name": "python",
   "nbconvert_exporter": "python",
   "pygments_lexer": "ipython3",
   "version": "3.11.7"
  }
 },
 "nbformat": 4,
 "nbformat_minor": 2
}
