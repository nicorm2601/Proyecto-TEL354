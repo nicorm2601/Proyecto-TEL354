{
 "cells": [
  {
   "cell_type": "code",
   "execution_count": 3,
   "metadata": {},
   "outputs": [],
   "source": [
    "import pandas as pd"
   ]
  },
  {
   "cell_type": "code",
   "execution_count": 5,
   "metadata": {},
   "outputs": [],
   "source": [
    "# Concatenación de datasets en uno solo.\n",
    "df1 = pd.read_csv('./Datasets/joseantoniokast_sent.csv')\n",
    "df2 = pd.read_csv('./Datasets/GabrielBoric_sent.csv')\n",
    "df3 = pd.read_csv('./Datasets/camila_vallejo_sent.csv')\n",
    "df4 = pd.read_csv('./Datasets/evelynmatthei_sent.csv')\n",
    "\n",
    "df_combined = pd.concat([df1, df2, df3, df4])\n",
    "\n",
    "df_combined.to_csv('analisis_sentimientos.csv', index=False)"
   ]
  }
 ],
 "metadata": {
  "kernelspec": {
   "display_name": "base",
   "language": "python",
   "name": "python3"
  },
  "language_info": {
   "codemirror_mode": {
    "name": "ipython",
    "version": 3
   },
   "file_extension": ".py",
   "mimetype": "text/x-python",
   "name": "python",
   "nbconvert_exporter": "python",
   "pygments_lexer": "ipython3",
   "version": "3.11.7"
  }
 },
 "nbformat": 4,
 "nbformat_minor": 2
}
