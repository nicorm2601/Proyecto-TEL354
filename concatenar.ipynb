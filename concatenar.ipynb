{
 "cells": [
  {
   "cell_type": "code",
   "execution_count": 1,
   "metadata": {},
   "outputs": [],
   "source": [
    "import pandas as pd\n",
    "\n",
    "# Leer los archivos CSV\n",
    "df1 = pd.read_csv('joseantoniokast_sent.csv')\n",
    "df2 = pd.read_csv('GabrielBoric_sent.csv')\n",
    "df3 = pd.read_csv('camila_vallejo_sent.csv')\n",
    "\n",
    "# Concatenar los DataFrames\n",
    "df_combined = pd.concat([df1, df2, df3])\n",
    "\n",
    "# Guardar el DataFrame combinado en un nuevo archivo CSV\n",
    "df_combined.to_csv('analisis_sentimientos.csv', index=False)"
   ]
  }
 ],
 "metadata": {
  "kernelspec": {
   "display_name": "base",
   "language": "python",
   "name": "python3"
  },
  "language_info": {
   "codemirror_mode": {
    "name": "ipython",
    "version": 3
   },
   "file_extension": ".py",
   "mimetype": "text/x-python",
   "name": "python",
   "nbconvert_exporter": "python",
   "pygments_lexer": "ipython3",
   "version": "3.11.7"
  }
 },
 "nbformat": 4,
 "nbformat_minor": 2
}
