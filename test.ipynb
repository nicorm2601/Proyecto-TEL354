{
 "cells": [
  {
   "cell_type": "code",
   "execution_count": 12,
   "metadata": {},
   "outputs": [],
   "source": [
    "import re\n",
    "import string\n",
    "import emoji\n",
    "from nltk.corpus import stopwords\n",
    "import joblib\n",
    "import pandas as pd"
   ]
  },
  {
   "cell_type": "code",
   "execution_count": 3,
   "metadata": {},
   "outputs": [],
   "source": [
    "# Cargar el vectorizador.\n",
    "vectorizer = joblib.load('vectorizador.pkl')\n",
    "\n",
    "# Cargar el modelo de emociones.\n",
    "model_emotion = joblib.load('modelo_emociones.pkl')\n",
    "\n",
    "# Cargar el modelo de sentimientos.\n",
    "model_sentiment = joblib.load('modelo_sentimientos.pkl')\n"
   ]
  },
  {
   "cell_type": "code",
   "execution_count": 4,
   "metadata": {},
   "outputs": [],
   "source": [
    "# Función para eliminar emojis de los tweets.\n",
    "def eliminar_emojis(text):\n",
    "    return emoji.replace_emoji(text, '')\n",
    "\n",
    "# Función para normalizar el tweet.\n",
    "def normalizar_tweet(text):\n",
    "    text = text.lower()\n",
    "    text = re.sub(r'http\\S+|www\\S+', '', text, flags=re.MULTILINE)\n",
    "    text = eliminar_emojis(text)\n",
    "    text = text.translate(str.maketrans('', '', string.punctuation))\n",
    "    stop_words = set(stopwords.words('spanish'))\n",
    "    text = ' '.join([word for word in text.split() if word not in stop_words])\n",
    "    \n",
    "    return text\n"
   ]
  },
  {
   "cell_type": "code",
   "execution_count": 5,
   "metadata": {},
   "outputs": [],
   "source": [
    "# Función para predecir los sentimientos y las emociones.\n",
    "def predecir_emocion_y_sentimiento(text):\n",
    "    text_normalizado = normalizar_tweet(text)\n",
    "    X_new = vectorizer.transform([text_normalizado])\n",
    "    emocion_predicha = model_emotion.predict(X_new)\n",
    "    sentimiento_predicho = model_sentiment.predict(X_new)\n",
    "\n",
    "    return emocion_predicha[0], sentimiento_predicho[0]"
   ]
  },
  {
   "cell_type": "code",
   "execution_count": 11,
   "metadata": {},
   "outputs": [
    {
     "name": "stdout",
     "output_type": "stream",
     "text": [
      "Emoción predicha: surprise\n",
      "Sentimiento predicho: NEG\n"
     ]
    }
   ],
   "source": [
    "nuevo_texto = \"tengo miedo\"\n",
    "emocion, sentimiento = predecir_emocion_y_sentimiento(nuevo_texto)\n",
    "print(f'Emoción predicha: {emocion}')\n",
    "print(f'Sentimiento predicho: {sentimiento}')"
   ]
  },
  {
   "cell_type": "code",
   "execution_count": 15,
   "metadata": {},
   "outputs": [],
   "source": [
    "# Función para analizar los poemas por autor.\n",
    "def analizarAutor(ruta_in_dataset, autor, ruta_out_dataset):\n",
    "    df = pd.read_csv(ruta_in_dataset)\n",
    "\n",
    "    df_autor = df[df['author'] == autor]\n",
    "    df_autor[['predicted_emotion', 'predicted_sentiment']] = df_autor['content'].apply(lambda x: pd.Series(predecir_emocion_y_sentimiento(x)))\n",
    "    df_autor.to_csv(ruta_out_dataset, index = False)\n",
    "\n",
    "    return ruta_out_dataset"
   ]
  },
  {
   "cell_type": "code",
   "execution_count": 16,
   "metadata": {},
   "outputs": [
    {
     "name": "stderr",
     "output_type": "stream",
     "text": [
      "C:\\Users\\Nicolas\\AppData\\Local\\Temp\\ipykernel_17172\\1458377626.py:6: SettingWithCopyWarning: \n",
      "A value is trying to be set on a copy of a slice from a DataFrame.\n",
      "Try using .loc[row_indexer,col_indexer] = value instead\n",
      "\n",
      "See the caveats in the documentation: https://pandas.pydata.org/pandas-docs/stable/user_guide/indexing.html#returning-a-view-versus-a-copy\n",
      "  df_autor[['predicted_emotion', 'predicted_sentiment']] = df_autor['content'].apply(lambda x: pd.Series(predecir_emocion_y_sentimiento(x)))\n",
      "C:\\Users\\Nicolas\\AppData\\Local\\Temp\\ipykernel_17172\\1458377626.py:6: SettingWithCopyWarning: \n",
      "A value is trying to be set on a copy of a slice from a DataFrame.\n",
      "Try using .loc[row_indexer,col_indexer] = value instead\n",
      "\n",
      "See the caveats in the documentation: https://pandas.pydata.org/pandas-docs/stable/user_guide/indexing.html#returning-a-view-versus-a-copy\n",
      "  df_autor[['predicted_emotion', 'predicted_sentiment']] = df_autor['content'].apply(lambda x: pd.Series(predecir_emocion_y_sentimiento(x)))\n"
     ]
    }
   ],
   "source": [
    "autor1 = analizarAutor('Poemas_arreglado.csv', 'Pablo Neruda', 'Pablo_Neruda_sent.csv')"
   ]
  },
  {
   "cell_type": "code",
   "execution_count": 17,
   "metadata": {},
   "outputs": [
    {
     "name": "stderr",
     "output_type": "stream",
     "text": [
      "C:\\Users\\Nicolas\\AppData\\Local\\Temp\\ipykernel_17172\\1458377626.py:6: SettingWithCopyWarning: \n",
      "A value is trying to be set on a copy of a slice from a DataFrame.\n",
      "Try using .loc[row_indexer,col_indexer] = value instead\n",
      "\n",
      "See the caveats in the documentation: https://pandas.pydata.org/pandas-docs/stable/user_guide/indexing.html#returning-a-view-versus-a-copy\n",
      "  df_autor[['predicted_emotion', 'predicted_sentiment']] = df_autor['content'].apply(lambda x: pd.Series(predecir_emocion_y_sentimiento(x)))\n",
      "C:\\Users\\Nicolas\\AppData\\Local\\Temp\\ipykernel_17172\\1458377626.py:6: SettingWithCopyWarning: \n",
      "A value is trying to be set on a copy of a slice from a DataFrame.\n",
      "Try using .loc[row_indexer,col_indexer] = value instead\n",
      "\n",
      "See the caveats in the documentation: https://pandas.pydata.org/pandas-docs/stable/user_guide/indexing.html#returning-a-view-versus-a-copy\n",
      "  df_autor[['predicted_emotion', 'predicted_sentiment']] = df_autor['content'].apply(lambda x: pd.Series(predecir_emocion_y_sentimiento(x)))\n"
     ]
    }
   ],
   "source": [
    "autor2 = analizarAutor('Poemas_arreglado.csv', 'Gabriela Mistral', 'Gabriela_Mistral_sent.csv')"
   ]
  },
  {
   "cell_type": "code",
   "execution_count": 19,
   "metadata": {},
   "outputs": [
    {
     "name": "stderr",
     "output_type": "stream",
     "text": [
      "C:\\Users\\Nicolas\\AppData\\Local\\Temp\\ipykernel_17172\\1458377626.py:6: SettingWithCopyWarning: \n",
      "A value is trying to be set on a copy of a slice from a DataFrame.\n",
      "Try using .loc[row_indexer,col_indexer] = value instead\n",
      "\n",
      "See the caveats in the documentation: https://pandas.pydata.org/pandas-docs/stable/user_guide/indexing.html#returning-a-view-versus-a-copy\n",
      "  df_autor[['predicted_emotion', 'predicted_sentiment']] = df_autor['content'].apply(lambda x: pd.Series(predecir_emocion_y_sentimiento(x)))\n",
      "C:\\Users\\Nicolas\\AppData\\Local\\Temp\\ipykernel_17172\\1458377626.py:6: SettingWithCopyWarning: \n",
      "A value is trying to be set on a copy of a slice from a DataFrame.\n",
      "Try using .loc[row_indexer,col_indexer] = value instead\n",
      "\n",
      "See the caveats in the documentation: https://pandas.pydata.org/pandas-docs/stable/user_guide/indexing.html#returning-a-view-versus-a-copy\n",
      "  df_autor[['predicted_emotion', 'predicted_sentiment']] = df_autor['content'].apply(lambda x: pd.Series(predecir_emocion_y_sentimiento(x)))\n"
     ]
    }
   ],
   "source": [
    "autor3 = analizarAutor('Poemas_arreglado.csv', 'Nicanor Parra', 'Nicanor_Parra_sent.csv')"
   ]
  },
  {
   "cell_type": "code",
   "execution_count": 20,
   "metadata": {},
   "outputs": [
    {
     "name": "stderr",
     "output_type": "stream",
     "text": [
      "C:\\Users\\Nicolas\\AppData\\Local\\Temp\\ipykernel_17172\\1458377626.py:6: SettingWithCopyWarning: \n",
      "A value is trying to be set on a copy of a slice from a DataFrame.\n",
      "Try using .loc[row_indexer,col_indexer] = value instead\n",
      "\n",
      "See the caveats in the documentation: https://pandas.pydata.org/pandas-docs/stable/user_guide/indexing.html#returning-a-view-versus-a-copy\n",
      "  df_autor[['predicted_emotion', 'predicted_sentiment']] = df_autor['content'].apply(lambda x: pd.Series(predecir_emocion_y_sentimiento(x)))\n",
      "C:\\Users\\Nicolas\\AppData\\Local\\Temp\\ipykernel_17172\\1458377626.py:6: SettingWithCopyWarning: \n",
      "A value is trying to be set on a copy of a slice from a DataFrame.\n",
      "Try using .loc[row_indexer,col_indexer] = value instead\n",
      "\n",
      "See the caveats in the documentation: https://pandas.pydata.org/pandas-docs/stable/user_guide/indexing.html#returning-a-view-versus-a-copy\n",
      "  df_autor[['predicted_emotion', 'predicted_sentiment']] = df_autor['content'].apply(lambda x: pd.Series(predecir_emocion_y_sentimiento(x)))\n"
     ]
    }
   ],
   "source": [
    "autor3 = analizarAutor('Poemas_arreglado.csv', 'Vicente Huidobro', 'Vicente_Huidobro_sent.csv')"
   ]
  },
  {
   "cell_type": "code",
   "execution_count": 21,
   "metadata": {},
   "outputs": [
    {
     "name": "stderr",
     "output_type": "stream",
     "text": [
      "C:\\Users\\Nicolas\\AppData\\Local\\Temp\\ipykernel_17172\\1458377626.py:6: SettingWithCopyWarning: \n",
      "A value is trying to be set on a copy of a slice from a DataFrame.\n",
      "Try using .loc[row_indexer,col_indexer] = value instead\n",
      "\n",
      "See the caveats in the documentation: https://pandas.pydata.org/pandas-docs/stable/user_guide/indexing.html#returning-a-view-versus-a-copy\n",
      "  df_autor[['predicted_emotion', 'predicted_sentiment']] = df_autor['content'].apply(lambda x: pd.Series(predecir_emocion_y_sentimiento(x)))\n",
      "C:\\Users\\Nicolas\\AppData\\Local\\Temp\\ipykernel_17172\\1458377626.py:6: SettingWithCopyWarning: \n",
      "A value is trying to be set on a copy of a slice from a DataFrame.\n",
      "Try using .loc[row_indexer,col_indexer] = value instead\n",
      "\n",
      "See the caveats in the documentation: https://pandas.pydata.org/pandas-docs/stable/user_guide/indexing.html#returning-a-view-versus-a-copy\n",
      "  df_autor[['predicted_emotion', 'predicted_sentiment']] = df_autor['content'].apply(lambda x: pd.Series(predecir_emocion_y_sentimiento(x)))\n"
     ]
    }
   ],
   "source": [
    "autor4 = analizarAutor('./Poemas/Poemas_arreglado.csv', 'Mario Benedetti', './Poemas/Mario_Benedetti_sent.csv')"
   ]
  },
  {
   "cell_type": "code",
   "execution_count": 22,
   "metadata": {},
   "outputs": [
    {
     "name": "stderr",
     "output_type": "stream",
     "text": [
      "C:\\Users\\Nicolas\\AppData\\Local\\Temp\\ipykernel_17172\\1458377626.py:6: SettingWithCopyWarning: \n",
      "A value is trying to be set on a copy of a slice from a DataFrame.\n",
      "Try using .loc[row_indexer,col_indexer] = value instead\n",
      "\n",
      "See the caveats in the documentation: https://pandas.pydata.org/pandas-docs/stable/user_guide/indexing.html#returning-a-view-versus-a-copy\n",
      "  df_autor[['predicted_emotion', 'predicted_sentiment']] = df_autor['content'].apply(lambda x: pd.Series(predecir_emocion_y_sentimiento(x)))\n",
      "C:\\Users\\Nicolas\\AppData\\Local\\Temp\\ipykernel_17172\\1458377626.py:6: SettingWithCopyWarning: \n",
      "A value is trying to be set on a copy of a slice from a DataFrame.\n",
      "Try using .loc[row_indexer,col_indexer] = value instead\n",
      "\n",
      "See the caveats in the documentation: https://pandas.pydata.org/pandas-docs/stable/user_guide/indexing.html#returning-a-view-versus-a-copy\n",
      "  df_autor[['predicted_emotion', 'predicted_sentiment']] = df_autor['content'].apply(lambda x: pd.Series(predecir_emocion_y_sentimiento(x)))\n"
     ]
    }
   ],
   "source": [
    "autor5 = analizarAutor('./Poemas/Poemas_arreglado.csv', 'Antonio Machado', './Poemas/Antonio_Machado_sent.csv')"
   ]
  }
 ],
 "metadata": {
  "kernelspec": {
   "display_name": "base",
   "language": "python",
   "name": "python3"
  },
  "language_info": {
   "codemirror_mode": {
    "name": "ipython",
    "version": 3
   },
   "file_extension": ".py",
   "mimetype": "text/x-python",
   "name": "python",
   "nbconvert_exporter": "python",
   "pygments_lexer": "ipython3",
   "version": "3.11.7"
  }
 },
 "nbformat": 4,
 "nbformat_minor": 2
}
