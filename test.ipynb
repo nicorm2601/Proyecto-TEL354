{
 "cells": [
  {
   "cell_type": "code",
   "execution_count": 1,
   "metadata": {},
   "outputs": [],
   "source": [
    "import joblib\n",
    "\n",
    "# Cargar el vectorizador\n",
    "vectorizer = joblib.load('vectorizer.pkl')\n",
    "\n",
    "# Cargar el modelo de emociones\n",
    "model_emotion = joblib.load('model_emotion.pkl')\n",
    "\n",
    "# Cargar el modelo de sentimientos\n",
    "model_sentiment = joblib.load('model_sentiment.pkl')\n"
   ]
  },
  {
   "cell_type": "code",
   "execution_count": 2,
   "metadata": {},
   "outputs": [],
   "source": [
    "import re\n",
    "import string\n",
    "import emoji\n",
    "from nltk.corpus import stopwords\n",
    "\n",
    "def eliminar_emojis(text):\n",
    "    return emoji.replace_emoji(text, '')\n",
    "\n",
    "def normalizar_tweet(text):\n",
    "    text = text.lower()  # Convertir a minúsculas\n",
    "    text = re.sub(r'http\\S+|www\\S+', '', text, flags=re.MULTILINE)  # Eliminar URLs\n",
    "    text = eliminar_emojis(text)  # Eliminar emojis\n",
    "    text = text.translate(str.maketrans('', '', string.punctuation))  # Eliminar puntuación\n",
    "    stop_words = set(stopwords.words('spanish'))  # Definir stopwords\n",
    "    text = ' '.join([word for word in text.split() if word not in stop_words])  # Eliminar stopwords\n",
    "    return text\n"
   ]
  },
  {
   "cell_type": "code",
   "execution_count": 15,
   "metadata": {},
   "outputs": [
    {
     "name": "stdout",
     "output_type": "stream",
     "text": [
      "Emoción predicha: others\n",
      "Sentimiento predicho: NEU\n"
     ]
    }
   ],
   "source": [
    "def predecir_emocion_y_sentimiento(text):\n",
    "    # Normalizar el texto\n",
    "    text_normalizado = normalizar_tweet(text)\n",
    "\n",
    "    # Transformar el texto usando el vectorizador\n",
    "    X_new = vectorizer.transform([text_normalizado])\n",
    "\n",
    "    # Hacer predicciones\n",
    "    emocion_predicha = model_emotion.predict(X_new)\n",
    "    sentimiento_predicho = model_sentiment.predict(X_new)\n",
    "\n",
    "    return emocion_predicha[0], sentimiento_predicho[0]\n",
    "\n",
    "# Ejemplo de uso\n",
    "nuevo_texto = \"te odioooo ya no quiero saber nada mas de ti\"\n",
    "emocion, sentimiento = predecir_emocion_y_sentimiento(nuevo_texto)\n",
    "print(f'Emoción predicha: {emocion}')\n",
    "print(f'Sentimiento predicho: {sentimiento}')\n"
   ]
  }
 ],
 "metadata": {
  "kernelspec": {
   "display_name": "base",
   "language": "python",
   "name": "python3"
  },
  "language_info": {
   "codemirror_mode": {
    "name": "ipython",
    "version": 3
   },
   "file_extension": ".py",
   "mimetype": "text/x-python",
   "name": "python",
   "nbconvert_exporter": "python",
   "pygments_lexer": "ipython3",
   "version": "3.11.7"
  }
 },
 "nbformat": 4,
 "nbformat_minor": 2
}
