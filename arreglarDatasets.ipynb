{
 "cells": [
  {
   "cell_type": "code",
   "execution_count": 1,
   "metadata": {},
   "outputs": [],
   "source": [
    "import pandas as pd\n",
    "import ast"
   ]
  },
  {
   "cell_type": "code",
   "execution_count": 2,
   "metadata": {},
   "outputs": [],
   "source": [
    "# Función para arreglar dataset de poemas.\n",
    "def arreglarPoemas(ruta_in_dataset, ruta_out_dataset):\n",
    "    df = pd.read_csv(ruta_in_dataset)\n",
    "\n",
    "    df['content'] = df['content'].apply(lambda x: ' '.join(str(x).splitlines()))\n",
    "    df.to_csv(ruta_out_dataset, index=False)\n",
    "\n",
    "    return ruta_out_dataset"
   ]
  },
  {
   "cell_type": "code",
   "execution_count": 3,
   "metadata": {},
   "outputs": [],
   "source": [
    "# Función para extraer la metadata de los datasets de cuentos y microcuentos.,\n",
    "def extraer_metadata(metadata):\n",
    "    metadata_dict = ast.literal_eval(metadata)\n",
    "    title = metadata_dict.get('title', '')\n",
    "    author = metadata_dict.get('author', '')\n",
    "        \n",
    "    return title, author"
   ]
  },
  {
   "cell_type": "code",
   "execution_count": 4,
   "metadata": {},
   "outputs": [],
   "source": [
    "# Función para arreglar datasets de cuentos y microcuentos.\n",
    "def arreglarCuentos(ruta_in_dataset, ruta_out_dataset):\n",
    "    df = pd.read_csv(ruta_in_dataset)\n",
    "    df = df.drop(columns=['link'])\n",
    "\n",
    "    df[['title', 'author']] = df['text_metadata'].apply(lambda x: pd.Series(extraer_metadata(x)))\n",
    "    df = df.drop(columns=['text_metadata'])\n",
    "    df.to_csv(ruta_out_dataset, index=False)\n",
    "\n",
    "    return ruta_out_dataset\n"
   ]
  },
  {
   "cell_type": "code",
   "execution_count": 5,
   "metadata": {},
   "outputs": [],
   "source": [
    "archivoPoemas = arreglarPoemas('./Datasets/Poemas.csv', 'Poemas_arreglado.csv')"
   ]
  },
  {
   "cell_type": "code",
   "execution_count": 6,
   "metadata": {},
   "outputs": [],
   "source": [
    "archivoCuentos1 = arreglarCuentos('./Datasets/Alfonso_Reyes.csv', 'Alfonso_Reyes_arreglado.csv')"
   ]
  },
  {
   "cell_type": "code",
   "execution_count": 7,
   "metadata": {},
   "outputs": [],
   "source": [
    "archivoCuentos2 = arreglarCuentos('./Datasets/Baldomero_Lillo.csv', 'Baldomero_Lillo_arreglado.csv')"
   ]
  },
  {
   "cell_type": "code",
   "execution_count": 8,
   "metadata": {},
   "outputs": [],
   "source": [
    "archivoCuentos3 = arreglarCuentos('./Datasets/Jorge_Luis_Borges.csv', 'Jorge_Luis_Borges_arreglado.csv')"
   ]
  },
  {
   "cell_type": "code",
   "execution_count": 9,
   "metadata": {},
   "outputs": [],
   "source": [
    "archivoCuentos4 = arreglarCuentos('./Datasets/Julio_Cortazar.csv', 'Julio_Cortazar_arreglado.csv')"
   ]
  },
  {
   "cell_type": "code",
   "execution_count": 10,
   "metadata": {},
   "outputs": [],
   "source": [
    "archivoCuentos5 = arreglarCuentos('./Datasets/Maria_Luisa_Bombal.csv', 'Maria_Luisa_Bombal_arreglado.csv')"
   ]
  },
  {
   "cell_type": "code",
   "execution_count": 11,
   "metadata": {},
   "outputs": [],
   "source": [
    "archivoCuentos6 = arreglarCuentos('./Datasets/Mario_Benedetti.csv', 'Mario_Benedetti_arreglado.csv')"
   ]
  },
  {
   "cell_type": "code",
   "execution_count": 12,
   "metadata": {},
   "outputs": [],
   "source": [
    "archivoCuentos7 = arreglarCuentos('./Datasets/Vicente_Huidobro.csv', 'Vicente_Huidobro_arreglado.csv')"
   ]
  }
 ],
 "metadata": {
  "kernelspec": {
   "display_name": "base",
   "language": "python",
   "name": "python3"
  },
  "language_info": {
   "codemirror_mode": {
    "name": "ipython",
    "version": 3
   },
   "file_extension": ".py",
   "mimetype": "text/x-python",
   "name": "python",
   "nbconvert_exporter": "python",
   "pygments_lexer": "ipython3",
   "version": "3.11.7"
  }
 },
 "nbformat": 4,
 "nbformat_minor": 2
}
